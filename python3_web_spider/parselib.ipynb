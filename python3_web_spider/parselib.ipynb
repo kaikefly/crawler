{
 "cells": [
  {
   "cell_type": "markdown",
   "metadata": {},
   "source": [
    "# 解析库的使用\n",
    "\n",
    "介绍 lxml, Beautiful Soup, pyquery 三种解析库的用法。\n",
    "\n",
    "## 4.1 XPath\n",
    "\n",
    "XPath 的几个常用规则：\n",
    "* nodename &emsp; 选取此节点的所有子节点\n",
    "* / &emsp; 从当前节点选取直接子节点\n",
    "* // &emsp; 从当前节点选取子孙节点\n",
    "* . &emsp; 选取当前节点\n",
    "* .. &emsp; 选取当前节点的父节点\n",
    "* @ &emsp; 选取属性"
   ]
  },
  {
   "cell_type": "code",
   "execution_count": 3,
   "metadata": {},
   "outputs": [
    {
     "name": "stdout",
     "output_type": "stream",
     "text": [
      "[<Element html at 0x10f889fc8>, <Element body at 0x10f12f188>, <Element div at 0x10f19a908>, <Element ul at 0x10f244b48>, <Element li at 0x10f244d88>, <Element a at 0x10f244188>, <Element li at 0x10f2448c8>, <Element a at 0x10f908508>, <Element li at 0x10f908548>, <Element a at 0x10f2442c8>, <Element li at 0x10f9085c8>, <Element a at 0x10f908648>, <Element li at 0x10f908588>, <Element a at 0x10f908608>]\n"
     ]
    }
   ],
   "source": [
    "from lxml import etree\n",
    "text = '''\n",
    "<div>\n",
    "<ul>\n",
    "<li class=\"item-0\"><a href=\"link1.html\">first item</a></li>\n",
    "<li class=\"item-1\"><a href=\"link2.html\">second item</a></li>\n",
    "<li class=\"item-inactive\"><a href=\"link3.html\">third item</a></li>\n",
    "<li class=\"item-1\"><a href=\"link4.html\">fourth item</a></li>\n",
    "<li class=\"item-0\"><a href=\"link5.html\">fifth item</a></li>\n",
    "</ul>\n",
    "</div>\n",
    "'''\n",
    "html = etree.HTML(text)  # 也可读取文本文件，html = etree.parse('./text.html', etree.HTMLParser())\n",
    "result = html.xpath('//*')\n",
    "print(result)"
   ]
  },
  {
   "cell_type": "markdown",
   "metadata": {},
   "source": [
    "这里 * 代表匹配所有节点，也就是所有 HTML 文本中所有节点都会被获取。\n",
    "\n",
    "**子节点**\n",
    "\n",
    "如果想获取所有 li 节点："
   ]
  },
  {
   "cell_type": "code",
   "execution_count": 4,
   "metadata": {},
   "outputs": [],
   "source": [
    "result = html.xpath('//li')"
   ]
  },
  {
   "cell_type": "markdown",
   "metadata": {},
   "source": [
    "通过 / 或 // 可查找元素的子节点或子孙节点。假如要选择 li 节点的所有直接 a 子节点："
   ]
  },
  {
   "cell_type": "code",
   "execution_count": 5,
   "metadata": {},
   "outputs": [],
   "source": [
    "result = html.xpath('//li/a')"
   ]
  },
  {
   "cell_type": "markdown",
   "metadata": {},
   "source": [
    "**父节点**\n",
    "\n",
    "使用 .. 或 parent:: 来获取父节点，比如，现在首先选中 href 属性为 link4.html 的 a 节点，然后再获取其父节点，然后再获取其 class 属性。"
   ]
  },
  {
   "cell_type": "code",
   "execution_count": 6,
   "metadata": {},
   "outputs": [],
   "source": [
    "result = html.xpath('//a[@href=\"link4.html\"]/../@class')\n",
    "# 或者\n",
    "result = html.xpath('//a[@href=\"link4.html\"]/parent::*/@class')"
   ]
  },
  {
   "cell_type": "markdown",
   "metadata": {},
   "source": [
    "**属性匹配**\n",
    "\n",
    "可以使用 @ 符号进行属性过滤。比如，如果要选取 class 为 item-0 的 li 节点，可以这样实现："
   ]
  },
  {
   "cell_type": "code",
   "execution_count": 7,
   "metadata": {},
   "outputs": [],
   "source": [
    "result = html.xpath('//li[@class=\"item-0\"]')"
   ]
  },
  {
   "cell_type": "markdown",
   "metadata": {},
   "source": [
    "**文本获取**\n",
    "\n",
    "用 XPath 中的 text() 方法获取节点中的文本。"
   ]
  },
  {
   "cell_type": "code",
   "execution_count": 9,
   "metadata": {},
   "outputs": [
    {
     "data": {
      "text/plain": [
       "['first item', 'fifth item']"
      ]
     },
     "execution_count": 9,
     "metadata": {},
     "output_type": "execute_result"
    }
   ],
   "source": [
    "result = html.xpath('//li[@class=\"item-0\"]/a/text()')\n",
    "result"
   ]
  },
  {
   "cell_type": "markdown",
   "metadata": {},
   "source": [
    "**属性获取**\n",
    "\n",
    "还是使用 @ 来获取节点属性。例如，想获取所有 li 节点下所有 a 节点的 href 属性："
   ]
  },
  {
   "cell_type": "code",
   "execution_count": 10,
   "metadata": {},
   "outputs": [
    {
     "data": {
      "text/plain": [
       "['link1.html', 'link2.html', 'link3.html', 'link4.html', 'link5.html']"
      ]
     },
     "execution_count": 10,
     "metadata": {},
     "output_type": "execute_result"
    }
   ],
   "source": [
    "result = html.xpath('//li/a/@href')\n",
    "result"
   ]
  },
  {
   "cell_type": "markdown",
   "metadata": {},
   "source": [
    "**属性多值匹配**\n",
    "\n",
    "有时候，某些节点的某个属性可能有多个值，比如：\n",
    "```\n",
    "<li class=\"li li-first\"><a href=\"link.html\">first item</a></li>\n",
    "```\n",
    "需要使用 contains() 函数："
   ]
  },
  {
   "cell_type": "code",
   "execution_count": null,
   "metadata": {},
   "outputs": [],
   "source": [
    "result = html.xpath('//li[@contains(@class, \"li\")]/a/text()')"
   ]
  },
  {
   "cell_type": "markdown",
   "metadata": {},
   "source": [
    "**多属性匹配**\n",
    "\n",
    "根据多个属性确定一个节点，这时就需要同时匹配多个属性。此时可以使用 and 来连接。"
   ]
  },
  {
   "cell_type": "code",
   "execution_count": 12,
   "metadata": {},
   "outputs": [
    {
     "data": {
      "text/plain": [
       "['first item']"
      ]
     },
     "execution_count": 12,
     "metadata": {},
     "output_type": "execute_result"
    }
   ],
   "source": [
    "from lxml import etree\n",
    "text = '<li class=\"li li-first\" name=\"item\"><a href=\"link.html\">first item</a></li>'\n",
    "html = etree.HTML(text)\n",
    "result = html.xpath('//li[contains(@class, \"li\") and @name=\"item\"]/a/text()')\n",
    "result"
   ]
  },
  {
   "cell_type": "markdown",
   "metadata": {},
   "source": [
    "**按序选择**\n",
    "\n",
    "如果某些属性可能同时匹配了多个节点，可以利用中括号传入索引的方法获取特定次序的节，或者使用 last()、position() 等。"
   ]
  },
  {
   "cell_type": "code",
   "execution_count": 13,
   "metadata": {},
   "outputs": [],
   "source": [
    "result = html.xpath('//li[1]/a/text()')  # 序号以 1 开头\n",
    "result = html.xpath('//li[last()]/a/text()')  # 最后一个节点\n",
    "result = html.xpath('//li[position()<3]/a/text()')  # 位置小于 3 的节点"
   ]
  },
  {
   "cell_type": "markdown",
   "metadata": {},
   "source": [
    "**节点轴选择**\n",
    "\n",
    "XPath 提供了很多节点轴选择方法，包括获取子元素、兄弟元素、父元素、祖先元素等。"
   ]
  },
  {
   "cell_type": "code",
   "execution_count": 14,
   "metadata": {},
   "outputs": [],
   "source": [
    "result = html.xpath('//li[1]/ancestor::*')  # 获取所有祖先节点\n",
    "result = html.xpath('//li[1]/attribute::*')  # 获取所有属性值\n",
    "result = html.xpath('//li[1]/child::a[@href=\"link1.html\"]')  # 获取所有直接子节点中 href 属性为 link1.html 的 a 节点\n",
    "result = html.xpath('//li[1]/descendant::span')  # 获取所有子孙节点中的 span 节点\n",
    "result = html.xpath('//li[1]/following::*')  # 获取当前节点之后的所有节点"
   ]
  },
  {
   "cell_type": "markdown",
   "metadata": {},
   "source": [
    "## 4.2 Beautiful Soup\n",
    "\n",
    "Beautiful Soup 是 Python 的一个 HTML 或 XML 的解析库，可以用它来方便地从网页中提取数据。\n",
    "\n",
    "Beautiful Soup 在解析时依赖解析器，除了支持 Python 标准库中的 HTML 解析器外，还支持一些第三方解析器（比如 lxml）。\n",
    "```\n",
    "BeautifulSoup(markup, 'html.parser')\n",
    "BeautifulSoup(markup, 'lxml')\n",
    "```\n",
    "\n",
    "### 节点选择器\n",
    "\n",
    "直接调用节点的名称就可以选择节点元素，再调用 string 属性就可以得到节点内的文本。"
   ]
  },
  {
   "cell_type": "code",
   "execution_count": 16,
   "metadata": {},
   "outputs": [
    {
     "name": "stdout",
     "output_type": "stream",
     "text": [
      "<title>The Dormouse's story</title>\n",
      "The Dormouse's story\n",
      "<head><title>The Dormouse's story</title></head>\n",
      "<p class=\"title\" name=\"dromouse\"><b>The Dormouse's story</b></p>\n"
     ]
    }
   ],
   "source": [
    "from bs4 import BeautifulSoup\n",
    "\n",
    "html = \"\"\"\n",
    "<html><head><title>The Dormouse's story</title></head>\n",
    "<body>\n",
    "<p class=\"title\" name=\"dromouse\"><b>The Dormouse's story</b></p>\n",
    "<p class=\"story\">Once upon a time there were three little sisters; and their name were\n",
    "<a href=\"http://example.com/elsie\" class=\"sister\" id=\"link1\"><!-- Elsie --></a>,\n",
    "<a href=\"http://example.com/lacie\" class=\"sister\" id=\"link2\">Lacie</a> and\n",
    "<a href=\"http://example.com/tillie\" class=\"sister\" id=\"link3\">Tillie</a>;\n",
    "and they lived at the bottom of a well.</p>\n",
    "<p class=\"story\">...</p>\n",
    "\"\"\"\n",
    "\n",
    "soup = BeautifulSoup(html, 'lxml')\n",
    "print(soup.title)\n",
    "print(soup.title.string)\n",
    "print(soup.head)\n",
    "print(soup.p)  # 这种方式只会选择第一个匹配的节点"
   ]
  },
  {
   "cell_type": "markdown",
   "metadata": {},
   "source": [
    "**提取信息**\n",
    "\n",
    "（1）利用 name 属性获取节点的名称。"
   ]
  },
  {
   "cell_type": "code",
   "execution_count": 17,
   "metadata": {},
   "outputs": [
    {
     "name": "stdout",
     "output_type": "stream",
     "text": [
      "title\n"
     ]
    }
   ],
   "source": [
    "print(soup.title.name)"
   ]
  },
  {
   "cell_type": "markdown",
   "metadata": {},
   "source": [
    "（2）调用 attrs 获取所有属性。"
   ]
  },
  {
   "cell_type": "code",
   "execution_count": 18,
   "metadata": {},
   "outputs": [
    {
     "name": "stdout",
     "output_type": "stream",
     "text": [
      "{'class': ['title'], 'name': 'dromouse'}\n",
      "dromouse\n"
     ]
    }
   ],
   "source": [
    "print(soup.p.attrs)\n",
    "print(soup.p.attrs['name'])  # 或者 soup.p['name']"
   ]
  },
  {
   "cell_type": "markdown",
   "metadata": {},
   "source": [
    "（3）利用 string 属性获取节点元素包含的文本内容。"
   ]
  },
  {
   "cell_type": "code",
   "execution_count": 19,
   "metadata": {},
   "outputs": [
    {
     "name": "stdout",
     "output_type": "stream",
     "text": [
      "The Dormouse's story\n"
     ]
    }
   ],
   "source": [
    "print(soup.p.string)"
   ]
  },
  {
   "cell_type": "markdown",
   "metadata": {},
   "source": [
    "**嵌套选择**\n",
    "\n",
    "在上面的例子中，每一个返回结果都是 bs4.element.Tag 类型，它同样可以继续调用节点进行下一步的选择。比如，获取 head 节点元素，可以继续调用 head 来获取其内部的 head 节点元素。"
   ]
  },
  {
   "cell_type": "code",
   "execution_count": 20,
   "metadata": {},
   "outputs": [
    {
     "name": "stdout",
     "output_type": "stream",
     "text": [
      "<title>The Dormouse's story</title>\n",
      "<class 'bs4.element.Tag'>\n",
      "The Dormouse's story\n"
     ]
    }
   ],
   "source": [
    "html = \"\"\"\n",
    "<html><head><title>The Dormouse's story</title></head>\n",
    "<body>\n",
    "\"\"\"\n",
    "soup = BeautifulSoup(html, 'lxml')\n",
    "print(soup.head.title)\n",
    "print(type(soup.head.title))\n",
    "print(soup.head.title.string)"
   ]
  },
  {
   "cell_type": "markdown",
   "metadata": {},
   "source": [
    "**关联选择**\n",
    "\n",
    "在做选择的时候，有时候不能做到一步就选到想要的节点元素，需要先选中某一个节点，然后以它为基准再选择它的子节点、父节点、兄弟节点等。\n",
    "\n",
    "（1）子节点和子孙节点\n",
    "\n",
    "选取节点元素之后，如果想要获取它的直接子节点，可以调用 contents 属性，也可以使用 children 属性。如果要得到所有的子孙节点的话，可以调用 descendants 属性。\n",
    "\n",
    "（2）父节点和祖先节点\n",
    "\n",
    "如果要获取某个节点元素的父节点，可以调用 parent 属性（获取直接父节点）；如果想获取所有的祖先节点，可以调用 parents 属性。\n",
    "\n",
    "（3）兄弟节点\n",
    "\n",
    "使用 next_sibling 和 previous_sibling 分别获取节点的下一个和上一个兄弟元素。\n",
    "\n",
    "### 方法选择器\n",
    "\n",
    "上面的方法都是通过属性来选择，不适合进行复杂的选择。Beautiful Soup 还提供了一些查询方法，比如 find_all() 和 find()，通过传入响应的参数，就可以灵活查询。\n",
    "\n",
    "**find_all()**\n",
    "\n",
    "查询所有符合条件的元素，传入一些属性或文本，就可以得到符合条件的元素。API 为：\n",
    "```\n",
    "find_all(name, attrs, recursive, text, **kargs)\n",
    "```\n",
    "\n",
    "（1）通过节点名来查询："
   ]
  },
  {
   "cell_type": "code",
   "execution_count": 23,
   "metadata": {},
   "outputs": [
    {
     "name": "stdout",
     "output_type": "stream",
     "text": [
      "[<ul class=\"list\" id=\"list-1\">\n",
      "<li class=\"element\">Foo</li>\n",
      "<li class=\"element\">Bar</li>\n",
      "<li class=\"element\">Jay</li>\n",
      "</ul>, <ul class=\"list list-small\" id=\"list-2\">\n",
      "<li class=\"element\">Foo</li>\n",
      "<li class=\"element\">Bar</li>\n",
      "</ul>]\n"
     ]
    }
   ],
   "source": [
    "html = \"\"\"\n",
    "<div class=\"panel\">\n",
    "<div class=\"panel-heading\">\n",
    "<h4>hello</h4>\n",
    "</div>\n",
    "<div class=\"panel-body\">\n",
    "<ul class=\"list\" id=\"list-1\">\n",
    "<li class=\"element\">Foo</li>\n",
    "<li class=\"element\">Bar</li>\n",
    "<li class=\"element\">Jay</li>\n",
    "</ul>\n",
    "<ul class=\"list list-small\" id=\"list-2\">\n",
    "<li class=\"element\">Foo</li>\n",
    "<li class=\"element\">Bar</li>\n",
    "</ul>\n",
    "</div>\n",
    "</div>\n",
    "\"\"\"\n",
    "soup = BeautifulSoup(html, 'lxml')\n",
    "print(soup.find_all(name='ul'))"
   ]
  },
  {
   "cell_type": "markdown",
   "metadata": {},
   "source": [
    "（2）通过属性来查询："
   ]
  },
  {
   "cell_type": "code",
   "execution_count": 24,
   "metadata": {},
   "outputs": [
    {
     "name": "stdout",
     "output_type": "stream",
     "text": [
      "[<ul class=\"list\" id=\"list-1\">\n",
      "<li class=\"element\">Foo</li>\n",
      "<li class=\"element\">Bar</li>\n",
      "<li class=\"element\">Jay</li>\n",
      "</ul>]\n"
     ]
    }
   ],
   "source": [
    "print(soup.find_all(attrs={'id': 'list-1'}))"
   ]
  },
  {
   "cell_type": "markdown",
   "metadata": {},
   "source": [
    "对于常用的属性，比如 id 和 class 等，可以直接传入 id 和 class_（为了和 Python 关键字 class 区分）来查询："
   ]
  },
  {
   "cell_type": "code",
   "execution_count": 25,
   "metadata": {},
   "outputs": [
    {
     "name": "stdout",
     "output_type": "stream",
     "text": [
      "[<ul class=\"list\" id=\"list-1\">\n",
      "<li class=\"element\">Foo</li>\n",
      "<li class=\"element\">Bar</li>\n",
      "<li class=\"element\">Jay</li>\n",
      "</ul>]\n",
      "[<li class=\"element\">Foo</li>, <li class=\"element\">Bar</li>, <li class=\"element\">Jay</li>, <li class=\"element\">Foo</li>, <li class=\"element\">Bar</li>]\n"
     ]
    }
   ],
   "source": [
    "print(soup.find_all(id='list-1'))\n",
    "print(soup.find_all(class_='element'))"
   ]
  },
  {
   "cell_type": "markdown",
   "metadata": {},
   "source": [
    "（3）使用 text 参数。text 参数可用来匹配节点的文本，传入的形式可以是字符串，可以是正则表达式对象："
   ]
  },
  {
   "cell_type": "code",
   "execution_count": 26,
   "metadata": {},
   "outputs": [
    {
     "name": "stdout",
     "output_type": "stream",
     "text": [
      "['Hello, this is a link', 'Hello, this is a link, too']\n"
     ]
    }
   ],
   "source": [
    "import re\n",
    "html = '''\n",
    "<div class=\"panel\">\n",
    "<div class=\"panel-body\">\n",
    "<a>Hello, this is a link</a>\n",
    "<a>Hello, this is a link, too</a>\n",
    "</div>\n",
    "</div>\n",
    "'''\n",
    "soup = BeautifulSoup(html, 'lxml')\n",
    "print(soup.find_all(text=re.compile('link')))"
   ]
  },
  {
   "cell_type": "markdown",
   "metadata": {},
   "source": [
    "**find()**\n",
    "\n",
    "find() 和 find_all() 的区别是，find() 返回的是单个元素，也就是第一个匹配的元素，而 find_all() 返回的是所有匹配的元素组成的列表。"
   ]
  },
  {
   "cell_type": "code",
   "execution_count": 27,
   "metadata": {},
   "outputs": [
    {
     "name": "stdout",
     "output_type": "stream",
     "text": [
      "Hello, this is a link\n"
     ]
    }
   ],
   "source": [
    "print(soup.find(text=re.compile('link')))"
   ]
  },
  {
   "cell_type": "markdown",
   "metadata": {},
   "source": [
    "此外，还有其它查询方法：\n",
    "\n",
    "* find_parents()、find_parent()：前者返回所有祖先节点，后者返回直接父节点；\n",
    "* find_next_siblings、find_next_sibling()：前者返回后面所有的兄弟节点，后者返回后面第一个兄弟节点；\n",
    "* find_previous_siblings()、find_previous_sibling()：前者返回前面所有的兄弟节点，后者返回前面第一个兄弟节点。\n",
    "* find_all_next()、find_next()：前者返回节点后所有符合条件的节点，后者返回第一个符合条件的节点；\n",
    "* find_all_previous()、find_previois：前者返回节点前所有符合条件的节点，后者返回第一个符合条件的节点。"
   ]
  },
  {
   "cell_type": "markdown",
   "metadata": {},
   "source": [
    "### CSS 选择器\n",
    "\n",
    "使用 CSS 选择器时，只需要调用 select() 方法，传入相应的 CSS 选择器即可。"
   ]
  },
  {
   "cell_type": "code",
   "execution_count": 30,
   "metadata": {},
   "outputs": [
    {
     "name": "stdout",
     "output_type": "stream",
     "text": [
      "[<div class=\"panel-heading\">\n",
      "<h4>hello</h4>\n",
      "</div>]\n",
      "[<li class=\"element\">Foo</li>, <li class=\"element\">Bar</li>, <li class=\"element\">Jay</li>, <li class=\"element\">Foo</li>, <li class=\"element\">Bar</li>]\n",
      "[<li class=\"element\">Foo</li>, <li class=\"element\">Bar</li>]\n",
      "<class 'bs4.element.Tag'>\n"
     ]
    }
   ],
   "source": [
    "html = \"\"\"\n",
    "<div class=\"panel\">\n",
    "<div class=\"panel-heading\">\n",
    "<h4>hello</h4>\n",
    "</div>\n",
    "<div class=\"panel-body\">\n",
    "<ul class=\"list\" id=\"list-1\">\n",
    "<li class=\"element\">Foo</li>\n",
    "<li class=\"element\">Bar</li>\n",
    "<li class=\"element\">Jay</li>\n",
    "</ul>\n",
    "<ul class=\"list list-small\" id=\"list-2\">\n",
    "<li class=\"element\">Foo</li>\n",
    "<li class=\"element\">Bar</li>\n",
    "</ul>\n",
    "</div>\n",
    "</div>\n",
    "\"\"\"\n",
    "soup = BeautifulSoup(html, 'lxml')\n",
    "print(soup.select('.panel .panel-heading'))\n",
    "print(soup.select('ul li'))\n",
    "print(soup.select('#list-2 .element'))\n",
    "print(type(soup.select('ul')[0]))"
   ]
  },
  {
   "cell_type": "markdown",
   "metadata": {},
   "source": [
    "**嵌套选择**\n",
    "\n",
    "select() 方法同样支持嵌套选择。"
   ]
  },
  {
   "cell_type": "code",
   "execution_count": 32,
   "metadata": {},
   "outputs": [
    {
     "name": "stdout",
     "output_type": "stream",
     "text": [
      "[<li class=\"element\">Foo</li>, <li class=\"element\">Bar</li>, <li class=\"element\">Jay</li>]\n",
      "[<li class=\"element\">Foo</li>, <li class=\"element\">Bar</li>]\n"
     ]
    }
   ],
   "source": [
    "for ul in soup.select('ul'):\n",
    "    print(ul.select('li'))"
   ]
  },
  {
   "cell_type": "markdown",
   "metadata": {},
   "source": [
    "**获取属性**"
   ]
  },
  {
   "cell_type": "code",
   "execution_count": 33,
   "metadata": {},
   "outputs": [
    {
     "name": "stdout",
     "output_type": "stream",
     "text": [
      "list-1\n",
      "list-1\n",
      "list-2\n",
      "list-2\n"
     ]
    }
   ],
   "source": [
    "for ul in soup.select('ul'):\n",
    "    print(ul['id'])\n",
    "    print(ul.attrs['id'])"
   ]
  },
  {
   "cell_type": "markdown",
   "metadata": {},
   "source": [
    "**获取文本**\n",
    "\n",
    "要获取文本，可以使用 string 属性，也可以使用 get_text() 方法："
   ]
  },
  {
   "cell_type": "code",
   "execution_count": 34,
   "metadata": {},
   "outputs": [
    {
     "name": "stdout",
     "output_type": "stream",
     "text": [
      "Get Text: Foo\n",
      "String: Foo\n",
      "Get Text: Bar\n",
      "String: Bar\n",
      "Get Text: Jay\n",
      "String: Jay\n",
      "Get Text: Foo\n",
      "String: Foo\n",
      "Get Text: Bar\n",
      "String: Bar\n"
     ]
    }
   ],
   "source": [
    "for li in soup.select('li'):\n",
    "    print('Get Text:', li.get_text())\n",
    "    print('String:', li.string)"
   ]
  }
 ],
 "metadata": {
  "kernelspec": {
   "display_name": "Python 3",
   "language": "python",
   "name": "python3"
  },
  "language_info": {
   "codemirror_mode": {
    "name": "ipython",
    "version": 3
   },
   "file_extension": ".py",
   "mimetype": "text/x-python",
   "name": "python",
   "nbconvert_exporter": "python",
   "pygments_lexer": "ipython3",
   "version": "3.7.1"
  }
 },
 "nbformat": 4,
 "nbformat_minor": 2
}
